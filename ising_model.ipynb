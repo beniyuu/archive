{
 "cells": [
  {
   "cell_type": "code",
   "execution_count": 171,
   "metadata": {},
   "outputs": [],
   "source": [
    "import pandas as pd\n",
    "import numpy as np\n",
    "import math as m\n",
    "\n",
    "from random import seed\n",
    "from random import random as rand\n",
    "import seaborn as sns\n",
    "import matplotlib.pyplot as plt\n",
    "from celluloid import Camera\n",
    "from tqdm.notebook import tqdm\n",
    "from ipywidgets import interact\n",
    "from PIL import Image, ImageOps\n",
    "\n",
    "seed(42)"
   ]
  },
  {
   "cell_type": "code",
   "execution_count": 220,
   "metadata": {},
   "outputs": [],
   "source": [
    "class IsingModel :\n",
    "    def __init__ (self, size, J=1.0, T=2.0) :\n",
    "        #takes the size of the array\n",
    "        self.size = size\n",
    "        #creates array from the size\n",
    "        self.lattice = np.full((self.size, self.size), -1)\n",
    "        #interaction parameter\n",
    "        self.J = J\n",
    "        #the temperature of the field\n",
    "        self.T = T\n",
    "        \n",
    "    def PickSite(self) :\n",
    "        #picks random sites x and y\n",
    "        x_index = np.random.randint(0, self.size)\n",
    "        y_index = np.random.randint(0, self.size)\n",
    "        site_pair = (x_index, y_index)\n",
    "        return site_pair\n",
    "\n",
    "    def Infect(self, coordinates, infection_type) :\n",
    "        #infects the site selected. infection_type can be -1 or 1\n",
    "        self.lattice[coordinates] = infection_type\n",
    "        return self.lattice\n",
    "    \n",
    "    def CalcEnergy(self) :\n",
    "        #calculates the Hamiltonian\n",
    "        lat = self.lattice\n",
    "        size = self.size\n",
    "        J = self.J\n",
    "        #initiates the interaction lattice\n",
    "        interacting_neighbors_lattice = np.zeros(shape=(size,size))\n",
    "        for i in range(0, size) :\n",
    "            for j in range(0, size) :\n",
    "                #populates the interaction values with imposed circular bounds\n",
    "                interacting_neighbors_lattice[i, j] = lat[i, j]*(lat[i%size, (j-1)%size] + lat[i%size, (j+1)%size] + lat[(i-1)%size, j%size] + lat[(i+1)%size, j%size])\n",
    "        #returns the sum of the lattice\n",
    "        return -J*interacting_neighbors_lattice.sum()\n",
    "    \n",
    "    def TallySI(self) :\n",
    "        #tallies the unique values in the array\n",
    "        (val, count) = np.unique(self.lattice, return_counts=True)\n",
    "        f = np.asarray((val, count)).T\n",
    "        # handles cases at which the count is just either all -1 or 1\n",
    "        if f.shape == (1,2) :\n",
    "            if f[0][0] == -1 :\n",
    "                return(self.size**2, 0)\n",
    "            elif f[0][0] == 1 :\n",
    "                return (0, self.size**2)\n",
    "        else :\n",
    "            #otherwise, I return the array values\n",
    "            return (f[0][1], f[1][1])\n",
    "\n",
    "    def PvRN(self, h_0, h) :\n",
    "        #generates a random number, r\n",
    "        r = rand()\n",
    "        #calculates the probability equation of the field\n",
    "        p = m.exp((h_0 - h)/self.T)\n",
    "        if r <= p :\n",
    "            return True\n",
    "        else :\n",
    "            return False\n",
    "            \n",
    "        "
   ]
  },
  {
   "cell_type": "code",
   "execution_count": 238,
   "metadata": {},
   "outputs": [],
   "source": [
    "def display_lattice_interactive(imgs):\n",
    "    #shows the iteration images with adjustment dial\n",
    "    def _show(frame=(0, len(imgs) - 1)):\n",
    "        return draw_lattice(imgs[frame])\n",
    "    return interact(_show)\n",
    "\n",
    "#draws the image from the lattice\n",
    "def draw_lattice(lattice) :\n",
    "    image = Image.fromarray(np.uint8((lattice - 1) * 0.5 * -255))\n",
    "    image = image.resize((200, 200), Image.NEAREST)\n",
    "    img_with_border = ImageOps.expand(image,border=2,fill='black')\n",
    "    return img_with_border"
   ]
  },
  {
   "cell_type": "code",
   "execution_count": 260,
   "metadata": {},
   "outputs": [
    {
     "data": {
      "application/vnd.jupyter.widget-view+json": {
       "model_id": "0a219753893644569e7bb2a1f32e0eff",
       "version_major": 2,
       "version_minor": 0
      },
      "text/plain": [
       "HBox(children=(FloatProgress(value=0.0, max=40000.0), HTML(value='')))"
      ]
     },
     "metadata": {},
     "output_type": "display_data"
    },
    {
     "name": "stdout",
     "output_type": "stream",
     "text": [
      "\n"
     ]
    }
   ],
   "source": [
    "results = pd.DataFrame(columns=['i', 'S', 'I', 'h_0', 'h'])\n",
    "\n",
    "arr = IsingModel(20, T=2.00)\n",
    "first_infective = arr.PickSite()\n",
    "arr.Infect(first_infective, 1)\n",
    "\n",
    "imgs = []\n",
    "\n",
    "for i in tqdm(range(0, 40000)):   \n",
    "    h_0 = arr.CalcEnergy()\n",
    "    site = arr.PickSite()\n",
    "    if arr.lattice[site] == -1 :\n",
    "        arr.Infect(site, 1)\n",
    "        h = arr.CalcEnergy()\n",
    "        if h_0 < h :\n",
    "            if not arr.PvRN(h_0, h):\n",
    "                arr.Infect(site, -1)\n",
    "    if i%500 == 0 :\n",
    "        tally = arr.TallySI()\n",
    "        dictoappend = {'i': int(i), 'S': tally[0], 'I' : tally[1], 'h_0' : h_0, 'h': h}\n",
    "        results = results.append(dictoappend, ignore_index=True)\n",
    "        imgs.append(arr.lattice.copy())\n",
    "    draw_lattice(arr.lattice)\n",
    "\n",
    "results = results.astype({'i': int})\n",
    "results.set_index('i', inplace=True)\n"
   ]
  },
  {
   "cell_type": "code",
   "execution_count": 261,
   "metadata": {},
   "outputs": [
    {
     "data": {
      "application/vnd.jupyter.widget-view+json": {
       "model_id": "443a596d78004f889bf393f028af9ac6",
       "version_major": 2,
       "version_minor": 0
      },
      "text/plain": [
       "interactive(children=(IntSlider(value=39, description='frame', max=79), Output()), _dom_classes=('widget-inter…"
      ]
     },
     "metadata": {},
     "output_type": "display_data"
    },
    {
     "data": {
      "text/plain": [
       "<function __main__.display_lattice_interactive.<locals>._show(frame=(0, 79))>"
      ]
     },
     "execution_count": 261,
     "metadata": {},
     "output_type": "execute_result"
    }
   ],
   "source": [
    "display_lattice_interactive(imgs)"
   ]
  },
  {
   "cell_type": "code",
   "execution_count": 262,
   "metadata": {},
   "outputs": [
    {
     "data": {
      "text/html": [
       "<div>\n",
       "<style scoped>\n",
       "    .dataframe tbody tr th:only-of-type {\n",
       "        vertical-align: middle;\n",
       "    }\n",
       "\n",
       "    .dataframe tbody tr th {\n",
       "        vertical-align: top;\n",
       "    }\n",
       "\n",
       "    .dataframe thead th {\n",
       "        text-align: right;\n",
       "    }\n",
       "</style>\n",
       "<table border=\"1\" class=\"dataframe\">\n",
       "  <thead>\n",
       "    <tr style=\"text-align: right;\">\n",
       "      <th></th>\n",
       "      <th>S</th>\n",
       "      <th>I</th>\n",
       "      <th>h_0</th>\n",
       "      <th>h</th>\n",
       "    </tr>\n",
       "    <tr>\n",
       "      <th>i</th>\n",
       "      <th></th>\n",
       "      <th></th>\n",
       "      <th></th>\n",
       "      <th></th>\n",
       "    </tr>\n",
       "  </thead>\n",
       "  <tbody>\n",
       "    <tr>\n",
       "      <th>0</th>\n",
       "      <td>399.0</td>\n",
       "      <td>1.0</td>\n",
       "      <td>-1584.0</td>\n",
       "      <td>-1568.0</td>\n",
       "    </tr>\n",
       "    <tr>\n",
       "      <th>500</th>\n",
       "      <td>399.0</td>\n",
       "      <td>1.0</td>\n",
       "      <td>-1584.0</td>\n",
       "      <td>-1568.0</td>\n",
       "    </tr>\n",
       "    <tr>\n",
       "      <th>1000</th>\n",
       "      <td>399.0</td>\n",
       "      <td>1.0</td>\n",
       "      <td>-1584.0</td>\n",
       "      <td>-1568.0</td>\n",
       "    </tr>\n",
       "    <tr>\n",
       "      <th>1500</th>\n",
       "      <td>399.0</td>\n",
       "      <td>1.0</td>\n",
       "      <td>-1584.0</td>\n",
       "      <td>-1568.0</td>\n",
       "    </tr>\n",
       "    <tr>\n",
       "      <th>2000</th>\n",
       "      <td>398.0</td>\n",
       "      <td>2.0</td>\n",
       "      <td>-1568.0</td>\n",
       "      <td>-1552.0</td>\n",
       "    </tr>\n",
       "    <tr>\n",
       "      <th>...</th>\n",
       "      <td>...</td>\n",
       "      <td>...</td>\n",
       "      <td>...</td>\n",
       "      <td>...</td>\n",
       "    </tr>\n",
       "    <tr>\n",
       "      <th>37500</th>\n",
       "      <td>0.0</td>\n",
       "      <td>400.0</td>\n",
       "      <td>-1600.0</td>\n",
       "      <td>-1600.0</td>\n",
       "    </tr>\n",
       "    <tr>\n",
       "      <th>38000</th>\n",
       "      <td>0.0</td>\n",
       "      <td>400.0</td>\n",
       "      <td>-1600.0</td>\n",
       "      <td>-1600.0</td>\n",
       "    </tr>\n",
       "    <tr>\n",
       "      <th>38500</th>\n",
       "      <td>0.0</td>\n",
       "      <td>400.0</td>\n",
       "      <td>-1600.0</td>\n",
       "      <td>-1600.0</td>\n",
       "    </tr>\n",
       "    <tr>\n",
       "      <th>39000</th>\n",
       "      <td>0.0</td>\n",
       "      <td>400.0</td>\n",
       "      <td>-1600.0</td>\n",
       "      <td>-1600.0</td>\n",
       "    </tr>\n",
       "    <tr>\n",
       "      <th>39500</th>\n",
       "      <td>0.0</td>\n",
       "      <td>400.0</td>\n",
       "      <td>-1600.0</td>\n",
       "      <td>-1600.0</td>\n",
       "    </tr>\n",
       "  </tbody>\n",
       "</table>\n",
       "<p>80 rows × 4 columns</p>\n",
       "</div>"
      ],
      "text/plain": [
       "           S      I     h_0       h\n",
       "i                                  \n",
       "0      399.0    1.0 -1584.0 -1568.0\n",
       "500    399.0    1.0 -1584.0 -1568.0\n",
       "1000   399.0    1.0 -1584.0 -1568.0\n",
       "1500   399.0    1.0 -1584.0 -1568.0\n",
       "2000   398.0    2.0 -1568.0 -1552.0\n",
       "...      ...    ...     ...     ...\n",
       "37500    0.0  400.0 -1600.0 -1600.0\n",
       "38000    0.0  400.0 -1600.0 -1600.0\n",
       "38500    0.0  400.0 -1600.0 -1600.0\n",
       "39000    0.0  400.0 -1600.0 -1600.0\n",
       "39500    0.0  400.0 -1600.0 -1600.0\n",
       "\n",
       "[80 rows x 4 columns]"
      ]
     },
     "execution_count": 262,
     "metadata": {},
     "output_type": "execute_result"
    }
   ],
   "source": [
    "results"
   ]
  },
  {
   "cell_type": "code",
   "execution_count": 263,
   "metadata": {},
   "outputs": [
    {
     "data": {
      "text/plain": [
       "<matplotlib.axes._subplots.AxesSubplot at 0x2195bea9c48>"
      ]
     },
     "execution_count": 263,
     "metadata": {},
     "output_type": "execute_result"
    },
    {
     "data": {
      "image/png": "[encoded data removed]",
      "text/plain": [
       "<Figure size 720x720 with 1 Axes>"
      ]
     },
     "metadata": {
      "needs_background": "light"
     },
     "output_type": "display_data"
    }
   ],
   "source": [
    "plt.figure(figsize=(10, 10))\n",
    "sns.scatterplot(x=results.index, y='I', data=results, color='grey')\n",
    "\n",
    "#colors = {'Susceptible':'red', 'Infected':'blue'}         \n",
    "#labels = list(colors.keys())\n",
    "#handles = [plt.Rectangle((0,0),1,1, color=colors[label]) for label in labels]\n",
    "#plt.legend(handles, labels, loc='lower right')"
   ]
  }
 ],
 "metadata": {
  "kernelspec": {
   "display_name": "Python 3",
   "language": "python",
   "name": "python3"
  },
  "language_info": {
   "codemirror_mode": {
    "name": "ipython",
    "version": 3
   },
   "file_extension": ".py",
   "mimetype": "text/x-python",
   "name": "python",
   "nbconvert_exporter": "python",
   "pygments_lexer": "ipython3",
   "version": "3.7.4"
  }
 },
 "nbformat": 4,
 "nbformat_minor": 4
}
